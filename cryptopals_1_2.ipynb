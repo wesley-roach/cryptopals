{
 "cells": [
  {
   "cell_type": "code",
   "execution_count": 1,
   "metadata": {},
   "outputs": [],
   "source": [
    "import codecs\n",
    "from itertools import cycle"
   ]
  },
  {
   "cell_type": "markdown",
   "metadata": {},
   "source": [
    "## Set 1: Basics"
   ]
  },
  {
   "cell_type": "markdown",
   "metadata": {},
   "source": [
    "### CHALLENGE 1: Convert hex to base64"
   ]
  },
  {
   "cell_type": "code",
   "execution_count": 2,
   "metadata": {},
   "outputs": [],
   "source": [
    "def hextob64(hexstr):\n",
    "  b64 = codecs.encode(codecs.decode(hexstr, 'hex'),'base64')\n",
    "  return b64"
   ]
  },
  {
   "cell_type": "code",
   "execution_count": 3,
   "metadata": {},
   "outputs": [
    {
     "name": "stdout",
     "output_type": "stream",
     "text": [
      "SSdtIGtpbGxpbmcgeW91ciBicmFpbiBsaWtlIGEgcG9pc29ub3VzIG11c2hyb29t\n",
      "\n",
      "b\"I'm killing your brain like a poisonous mushroom\"\n"
     ]
    }
   ],
   "source": [
    "hexstring = '49276d206b696c6c696e6720796f757220627261696e206c696b65206120706f69736f6e6f7573206d757368726f6f6d'\n",
    "bsixtyfour = hextob64(hexstring)\n",
    "print(bsixtyfour.decode())\n",
    "print(codecs.decode(bsixtyfour,'base64'))"
   ]
  },
  {
   "cell_type": "markdown",
   "metadata": {},
   "source": [
    "### CHALLENGE 2: Fixed XOR"
   ]
  },
  {
   "cell_type": "code",
   "execution_count": 4,
   "metadata": {},
   "outputs": [],
   "source": [
    "def fixed_xor(A, B, kind='bytes'):\n",
    "  if kind == 'hex' or kind == 'base64' or kind == 'utf-8':\n",
    "    A = codecs.decode(A, kind) \n",
    "    B = codecs.decode(B, kind)\n",
    "  out = bytes([a ^ b for (a,b) in zip(A, B)])\n",
    "  return out"
   ]
  },
  {
   "cell_type": "code",
   "execution_count": 5,
   "metadata": {},
   "outputs": [
    {
     "name": "stdout",
     "output_type": "stream",
     "text": [
      "b\"the kid don't play\"\n",
      "746865206b696420646f6e277420706c6179\n"
     ]
    }
   ],
   "source": [
    "s1 = '1c0111001f010100061a024b53535009181c'\n",
    "s2 = '686974207468652062756c6c277320657965'\n",
    "ans = '746865206b696420646f6e277420706c6179'\n",
    "fxor = fixed_xor(s1, s2, 'hex')\n",
    "print(fxor)\n",
    "print(fxor.hex())"
   ]
  },
  {
   "cell_type": "markdown",
   "metadata": {},
   "source": [
    "### CHALLENGE 3: Single-byte XOR cipher"
   ]
  },
  {
   "cell_type": "code",
   "execution_count": 6,
   "metadata": {},
   "outputs": [],
   "source": [
    "def score_phrase(phrase):\n",
    "  # relative frequency of letters in English language\n",
    "  freqstr = 'zqjxkvbpgyfwmculdrhsnioate'  \n",
    "  freq = dict(zip(cycle(freqstr), range(len(freqstr))))\n",
    "  score = 0\n",
    "  for char in phrase:\n",
    "    if char in freq:\n",
    "      score += freq[char]\n",
    "  return score"
   ]
  },
  {
   "cell_type": "code",
   "execution_count": 7,
   "metadata": {},
   "outputs": [],
   "source": [
    "def find_cipher(text):\n",
    "  cipher_keys = [bytes([i]*len(text)) for i in range(256)]\n",
    "  if type(text) == bytes:\n",
    "    textbytes = text\n",
    "  else:\n",
    "    textbytes = codecs.decode(text, 'hex')\n",
    "  scores = {}\n",
    "  outputs = {}\n",
    "  for ck in cipher_keys:\n",
    "    sol = fixed_xor(textbytes, ck).decode(errors='ignore')\n",
    "    scores[ck[0]] = score_phrase(sol)\n",
    "    outputs[ck[0]] = sol\n",
    "  #max_keys = [key for key, value in scores.items() if value == max(scores.values())]\n",
    "  #solutions = {k: outputs[k] for k in max_keys}\n",
    "  max_value = max(scores, key=scores.get)\n",
    "  best = {max_value: outputs[max_value]}\n",
    "  return best"
   ]
  },
  {
   "cell_type": "code",
   "execution_count": 8,
   "metadata": {},
   "outputs": [
    {
     "name": "stdout",
     "output_type": "stream",
     "text": [
      "88 Cooking MC's like a pound of bacon\n"
     ]
    }
   ],
   "source": [
    "s3 = '1b37373331363f78151b7f2b783431333d78397828372d363c78373e783a393b3736'\n",
    "\n",
    "sols = find_cipher(s3)\n",
    "for s in sols:\n",
    "  print(s, sols[s])"
   ]
  },
  {
   "cell_type": "markdown",
   "metadata": {},
   "source": [
    "### CHALLENGE 4: Detect single-character XOR"
   ]
  },
  {
   "cell_type": "code",
   "execution_count": 9,
   "metadata": {},
   "outputs": [
    {
     "name": "stdout",
     "output_type": "stream",
     "text": [
      "Now that the party is jumping\n",
      "\n"
     ]
    }
   ],
   "source": [
    "with open('4.txt') as f:\n",
    "  contents = f.readlines()\n",
    "\n",
    "lines = []\n",
    "bests = []\n",
    "for c in contents:\n",
    "  lines.append(find_cipher(c.strip()))\n",
    "\n",
    "scores = {}\n",
    "for solutions in lines:\n",
    "  for s in solutions:\n",
    "    scores[solutions[s]] = score_phrase(solutions[s])\n",
    "\n",
    "best = max(scores, key=scores.get)\n",
    "best_solution = [key for key, value in scores.items() if value == max(scores.values())]\n",
    "\n",
    "for m in best_solution:\n",
    "  print(m)\n",
    "  "
   ]
  },
  {
   "cell_type": "markdown",
   "metadata": {},
   "source": [
    "### CHALLENGE 5: Implement repeating-key XOR"
   ]
  },
  {
   "cell_type": "code",
   "execution_count": 10,
   "metadata": {},
   "outputs": [],
   "source": [
    "def key_xor(text, k):\n",
    "  if type(text) == str:\n",
    "    textbytes = text.encode()\n",
    "  else:\n",
    "    textbytes = text\n",
    "  cipher_key = k.encode()*(int(len(text)/len(k))+1)\n",
    "  return fixed_xor(textbytes, cipher_key)"
   ]
  },
  {
   "cell_type": "code",
   "execution_count": 11,
   "metadata": {},
   "outputs": [
    {
     "name": "stdout",
     "output_type": "stream",
     "text": [
      "0b3637272a2b2e63622c2e69692a23693a2a3c6324202d623d63343c2a26226324272765272a282b2f20430a652e2c652a3124333a653e2b2027630c692b20283165286326302e27282f\n"
     ]
    }
   ],
   "source": [
    "challenge_phrase = \"Burning 'em, if you ain't quick and nimble\\nI go crazy when I hear a cymbal\"\n",
    "kx = key_xor(challenge_phrase, \"ICE\")\n",
    "print(kx.hex())"
   ]
  },
  {
   "cell_type": "markdown",
   "metadata": {},
   "source": [
    "### CHALLENGE 6: Break repeating-key XOR"
   ]
  },
  {
   "cell_type": "code",
   "execution_count": 12,
   "metadata": {},
   "outputs": [],
   "source": [
    "def hamming_distance(str1, str2):\n",
    "  if type(str1) == str:\n",
    "    str1 = str1.encode()\n",
    "  if type(str2) == str:\n",
    "    str2 = str2.encode()\n",
    "  n = 0\n",
    "  for (x,y) in zip(str1, str2):\n",
    "    n = n + bin(x^y).count('1')\n",
    "  return n"
   ]
  },
  {
   "cell_type": "code",
   "execution_count": 13,
   "metadata": {},
   "outputs": [
    {
     "name": "stdout",
     "output_type": "stream",
     "text": [
      "37\n"
     ]
    }
   ],
   "source": [
    "test1 = \"this is a test\"\n",
    "test2 = \"wokka wokka!!!\"\n",
    "\n",
    "print(hamming_distance(test1, test2))"
   ]
  },
  {
   "cell_type": "code",
   "execution_count": 14,
   "metadata": {},
   "outputs": [],
   "source": [
    "def find_keysize(text):\n",
    "  distances = {}\n",
    "  for ks in range(2, 40):\n",
    "    dist = 0\n",
    "    length = int(len(text)/ks-1)\n",
    "    for i in range(length):\n",
    "      dist = dist + hamming_distance(text[ks*i:ks*(i+1)], text[ks*(i+1):ks*(i+2)])\n",
    "    distance = dist/(length*ks)\n",
    "    distances[ks] = distance\n",
    "  best = min(distances, key=distances.get)\n",
    "  return best"
   ]
  },
  {
   "cell_type": "code",
   "execution_count": 15,
   "metadata": {},
   "outputs": [],
   "source": [
    "def find_repeating_key(text, keysize):\n",
    "  key_blocks = [[] for _ in range(keysize)]\n",
    "  for i, bbyte in enumerate(text):\n",
    "    key_blocks[i % keysize].append(bbyte)\n",
    "\n",
    "  newkeys = []\n",
    "  for kb in key_blocks:\n",
    "    newkeys.append(find_cipher(bytes(kb)))\n",
    "\n",
    "  keystr = \"\"\n",
    "  for nk in newkeys:\n",
    "    keystr += chr(list(nk.keys())[0])\n",
    "  return keystr"
   ]
  },
  {
   "cell_type": "code",
   "execution_count": 16,
   "metadata": {},
   "outputs": [
    {
     "name": "stdout",
     "output_type": "stream",
     "text": [
      "Terminator X: Bring the noise\n",
      "I'm back and I'm ringin' the bell \n",
      "A rockin' on the mike while the fly girls yell \n",
      "In ecstasy in the back of me \n",
      "Well that's my DJ Deshay cuttin' all them Z's \n",
      "Hittin' hard and the girlies goin' crazy \n",
      "Vanilla's on the mike, man I'm not lazy. \n",
      "\n",
      "I'm lettin' my drug kick in \n",
      "It controls my mouth and I begin \n",
      "To just let it flow, let my concepts go \n",
      "My posse's to the side yellin', Go Vanilla Go! \n",
      "\n",
      "Smooth 'cause that's the way I will be \n",
      "And if you don't give a damn, then \n",
      "Why you starin' at me \n",
      "So get off 'cause I control the stage \n",
      "There's no dissin' allowed \n",
      "I'm in my own phase \n",
      "The girlies sa y they love me and that is ok \n",
      "And I can dance better than any kid n' play \n",
      "\n",
      "Stage 2 -- Yea the one ya' wanna listen to \n",
      "It's off my head so let the beat play through \n",
      "So I can funk it up and make it sound good \n",
      "1-2-3 Yo -- Knock on some wood \n",
      "For good luck, I like my rhymes atrocious \n",
      "Supercalafragilisticexpialidocious \n",
      "I'm an effect and that you can bet \n",
      "I can take a fly girl and make her wet. \n",
      "\n",
      "I'm like Samson -- Samson to Delilah \n",
      "There's no denyin', You can try to hang \n",
      "But you'll keep tryin' to get my style \n",
      "Over and over, practice makes perfect \n",
      "But not if you're a loafer. \n",
      "\n",
      "You'll get nowhere, no place, no time, no girls \n",
      "Soon -- Oh my God, homebody, you probably eat \n",
      "Spaghetti with a spoon! Come on and say it! \n",
      "\n",
      "VIP. Vanilla Ice yep, yep, I'm comin' hard like a rhino \n",
      "Intoxicating so you stagger like a wino \n",
      "So punks stop trying and girl stop cryin' \n",
      "Vanilla Ice is sellin' and you people are buyin' \n",
      "'Cause why the freaks are jockin' like Crazy Glue \n",
      "Movin' and groovin' trying to sing along \n",
      "All through the ghetto groovin' this here song \n",
      "Now you're amazed by the VIP posse. \n",
      "\n",
      "Steppin' so hard like a German Nazi \n",
      "Startled by the bases hittin' ground \n",
      "There's no trippin' on mine, I'm just gettin' down \n",
      "Sparkamatic, I'm hangin' tight like a fanatic \n",
      "You trapped me once and I thought that \n",
      "You might have it \n",
      "So step down and lend me your ear \n",
      "'89 in my time! You, '90 is my year. \n",
      "\n",
      "You're weakenin' fast, YO! and I can tell it \n",
      "Your body's gettin' hot, so, so I can smell it \n",
      "So don't be mad and don't be sad \n",
      "'Cause the lyrics belong to ICE, You can call me Dad \n",
      "You're pitchin' a fit, so step back and endure \n",
      "Let the witch doctor, Ice, do the dance to cure \n",
      "So come up close and don't be square \n",
      "You wanna battle me -- Anytime, anywhere \n",
      "\n",
      "You thought that I was weak, Boy, you're dead wrong \n",
      "So come on, everybody and sing this song \n",
      "\n",
      "Say -- Play that funky music Say, go white boy, go white boy go \n",
      "play that funky music Go white boy, go white boy, go \n",
      "Lay down and boogie and play that funky music till you die. \n",
      "\n",
      "Play that funky music Come on, Come on, let me hear \n",
      "Play that funky music white boy you say it, say it \n",
      "Play that funky music A little louder now \n",
      "Play that funky music, white boy Come on, Come on, Come on \n",
      "Play that funky music \n",
      "\n"
     ]
    }
   ],
   "source": [
    "with open('5.txt') as f:\n",
    "  contents = f.read()\n",
    "contents = codecs.decode(contents.encode(), 'base64')\n",
    "\n",
    "keysize = find_keysize(contents)\n",
    "keystr = find_repeating_key(contents, keysize)\n",
    "print(keystr)\n",
    "\n",
    "plaintext = key_xor(contents, keystr).decode()\n",
    "print(plaintext)\n"
   ]
  },
  {
   "cell_type": "markdown",
   "metadata": {},
   "source": [
    "### CHALLENGE 7: AES in ECB mode"
   ]
  },
  {
   "cell_type": "code",
   "execution_count": 17,
   "metadata": {},
   "outputs": [],
   "source": [
    "from cryptography.hazmat.primitives.ciphers import ( Cipher, algorithms, modes )\n",
    "from cryptography.hazmat.primitives import padding\n",
    "\n",
    "def encrypt_ecb(plaintext, key):\n",
    "  encryptor = Cipher(algorithms.AES(key), modes.ECB(),).encryptor()\n",
    "  return encryptor.update(plaintext)+encryptor.finalize()\n",
    "\n",
    "def decrypt_ecb(ciphertext, key):\n",
    "  decryptor = Cipher(algorithms.AES(key), modes.ECB(),).decryptor()\n",
    "  return decryptor.update(ciphertext)+decryptor.finalize()\n"
   ]
  },
  {
   "cell_type": "code",
   "execution_count": 18,
   "metadata": {},
   "outputs": [
    {
     "name": "stdout",
     "output_type": "stream",
     "text": [
      "I'm back and I'm ringin' the bell \n",
      "A rockin' on the mike while the fly girls yell \n",
      "In ecstasy in the back of me \n",
      "Well that's my DJ Deshay cuttin' all them Z's \n",
      "Hittin' hard and the girlies goin' crazy \n",
      "Vanilla's on the mike, man I'm not lazy. \n",
      "\n",
      "I'm lettin' my drug kick in \n",
      "It controls my mouth and I begin \n",
      "To just let it flow, let my concepts go \n",
      "My posse's to the side yellin', Go Vanilla Go! \n",
      "\n",
      "Smooth 'cause that's the way I will be \n",
      "And if you don't give a damn, then \n",
      "Why you starin' at me \n",
      "So get off 'cause I control the stage \n",
      "There's no dissin' allowed \n",
      "I'm in my own phase \n",
      "The girlies sa y they love me and that is ok \n",
      "And I can dance better than any kid n' play \n",
      "\n",
      "Stage 2 -- Yea the one ya' wanna listen to \n",
      "It's off my head so let the beat play through \n",
      "So I can funk it up and make it sound good \n",
      "1-2-3 Yo -- Knock on some wood \n",
      "For good luck, I like my rhymes atrocious \n",
      "Supercalafragilisticexpialidocious \n",
      "I'm an effect and that you can bet \n",
      "I can take a fly girl and make her wet. \n",
      "\n",
      "I'm like Samson -- Samson to Delilah \n",
      "There's no denyin', You can try to hang \n",
      "But you'll keep tryin' to get my style \n",
      "Over and over, practice makes perfect \n",
      "But not if you're a loafer. \n",
      "\n",
      "You'll get nowhere, no place, no time, no girls \n",
      "Soon -- Oh my God, homebody, you probably eat \n",
      "Spaghetti with a spoon! Come on and say it! \n",
      "\n",
      "VIP. Vanilla Ice yep, yep, I'm comin' hard like a rhino \n",
      "Intoxicating so you stagger like a wino \n",
      "So punks stop trying and girl stop cryin' \n",
      "Vanilla Ice is sellin' and you people are buyin' \n",
      "'Cause why the freaks are jockin' like Crazy Glue \n",
      "Movin' and groovin' trying to sing along \n",
      "All through the ghetto groovin' this here song \n",
      "Now you're amazed by the VIP posse. \n",
      "\n",
      "Steppin' so hard like a German Nazi \n",
      "Startled by the bases hittin' ground \n",
      "There's no trippin' on mine, I'm just gettin' down \n",
      "Sparkamatic, I'm hangin' tight like a fanatic \n",
      "You trapped me once and I thought that \n",
      "You might have it \n",
      "So step down and lend me your ear \n",
      "'89 in my time! You, '90 is my year. \n",
      "\n",
      "You're weakenin' fast, YO! and I can tell it \n",
      "Your body's gettin' hot, so, so I can smell it \n",
      "So don't be mad and don't be sad \n",
      "'Cause the lyrics belong to ICE, You can call me Dad \n",
      "You're pitchin' a fit, so step back and endure \n",
      "Let the witch doctor, Ice, do the dance to cure \n",
      "So come up close and don't be square \n",
      "You wanna battle me -- Anytime, anywhere \n",
      "\n",
      "You thought that I was weak, Boy, you're dead wrong \n",
      "So come on, everybody and sing this song \n",
      "\n",
      "Say -- Play that funky music Say, go white boy, go white boy go \n",
      "play that funky music Go white boy, go white boy, go \n",
      "Lay down and boogie and play that funky music till you die. \n",
      "\n",
      "Play that funky music Come on, Come on, let me hear \n",
      "Play that funky music white boy you say it, say it \n",
      "Play that funky music A little louder now \n",
      "Play that funky music, white boy Come on, Come on, Come on \n",
      "Play that funky music \n",
      "\u0004\u0004\u0004\u0004\n"
     ]
    }
   ],
   "source": [
    "aeskey = 'YELLOW SUBMARINE'\n",
    "with open('7.TXT') as f:\n",
    "  ct = f.read()\n",
    "ct = codecs.decode(ct.encode(), 'base64')\n",
    "\n",
    "msg7 = decrypt_ecb(ct, aeskey.encode())\n",
    "print(msg7.decode())"
   ]
  },
  {
   "cell_type": "markdown",
   "metadata": {},
   "source": [
    "### CHALLENGE 8: Detect AES in ECB mode"
   ]
  },
  {
   "cell_type": "code",
   "execution_count": 19,
   "metadata": {},
   "outputs": [],
   "source": [
    "def count_repetitions(ciphertext, block_size):\n",
    "  repeating_blocks = 0\n",
    "  size = int(len(ciphertext)/block_size)\n",
    "  blocks = [ciphertext[i*block_size:(i+1)*block_size] for i in range(size)]\n",
    "  repeating_blocks = len(blocks) - len(set(blocks))\n",
    "\n",
    "  return repeating_blocks"
   ]
  },
  {
   "cell_type": "code",
   "execution_count": 20,
   "metadata": {},
   "outputs": [
    {
     "name": "stdout",
     "output_type": "stream",
     "text": [
      "6  repetitions found in  d880619740a8a19b7840a8a31c810a3d08649af70dc06f4fd5d2d69c744cd283e2dd052f6b641dbf9d11b0348542bb5708649af70dc06f4fd5d2d69c744cd2839475c9dfdbc1d46597949d9c7e82bf5a08649af70dc06f4fd5d2d69c744cd28397a93eab8d6aecd566489154789a6b0308649af70dc06f4fd5d2d69c744cd283d403180c98c8f6db1f2a3f9c4040deb0ab51b29933f2c123c58386b06fba186a\n"
     ]
    }
   ],
   "source": [
    "with open('8.txt') as f:\n",
    "  ct = f.readlines()\n",
    "\n",
    "for c in ct:\n",
    "  b = c.strip()\n",
    "  reps = count_repetitions(b, 16)\n",
    "  if reps > 0:\n",
    "    print(reps, \" repetitions found in \", b)"
   ]
  },
  {
   "cell_type": "markdown",
   "metadata": {},
   "source": [
    "## Set 2: Block Crypto"
   ]
  },
  {
   "cell_type": "markdown",
   "metadata": {},
   "source": [
    "### CHALLENGE 9: Implement PCKS#7 padding"
   ]
  },
  {
   "cell_type": "code",
   "execution_count": 21,
   "metadata": {},
   "outputs": [],
   "source": [
    "def pad_plaintext(plaintext, block_size):\n",
    "  if type(plaintext) == str:\n",
    "    plaintext = plaintext.encode()\n",
    "  padsize = (block_size - len(plaintext) % block_size)%block_size\n",
    "  paddedtext = plaintext+bytes([padsize]*padsize)\n",
    "  return paddedtext"
   ]
  },
  {
   "cell_type": "code",
   "execution_count": 22,
   "metadata": {},
   "outputs": [
    {
     "data": {
      "text/plain": [
       "b'YELLOW SUBMARINE\\x04\\x04\\x04\\x04'"
      ]
     },
     "execution_count": 22,
     "metadata": {},
     "output_type": "execute_result"
    }
   ],
   "source": [
    "pt = \"YELLOW SUBMARINE\"\n",
    "pt_padded = pad_plaintext(pt, 20)\n",
    "pt_padded"
   ]
  },
  {
   "cell_type": "markdown",
   "metadata": {},
   "source": [
    "### CHALLENGE 10: Implement CBC mode"
   ]
  },
  {
   "cell_type": "code",
   "execution_count": 23,
   "metadata": {},
   "outputs": [],
   "source": [
    "def encrypt_cbc(plaintext, key, iv, block_size):\n",
    "  if type(plaintext) == str:\n",
    "    plaintext = plaintext.encode()\n",
    "  pt_padded = pad_plaintext(plaintext, block_size)\n",
    "  num_blocks = int(len(pt_padded)/block_size)\n",
    "  ct = b''\n",
    "  blocks = [pt_padded[i*block_size:(i+1)*block_size] for i in range(num_blocks)]\n",
    "  for block in blocks:\n",
    "    blockxor = fixed_xor(block, iv)\n",
    "    iv = encrypt_ecb(blockxor, key)\n",
    "    ct += iv\n",
    "  return ct\n",
    "\n",
    "def decrypt_cbc(ciphertext, key, iv, block_size):\n",
    "  num_blocks = int(len(ciphertext)/block_size)\n",
    "  pt = b''\n",
    "  blocks = [ciphertext[i*block_size:(i+1)*block_size] for i in range(num_blocks)]\n",
    "  for block in blocks:\n",
    "    blockdec = decrypt_ecb(block, key)\n",
    "    pt += fixed_xor(blockdec, iv)\n",
    "    iv = block\n",
    "  return pt"
   ]
  },
  {
   "cell_type": "code",
   "execution_count": 24,
   "metadata": {},
   "outputs": [
    {
     "name": "stdout",
     "output_type": "stream",
     "text": [
      "b'\\xd6u\\xf2<dR\\x1aM\\x12PS\\xf1\\x94\\xd5\\xe5\\xbc\\xfc\\xe20\\xc6`\\x17\\xdchZ=J\\xd2\\x90\\xc4)\\x8e'\n",
      "b'THIS IS JUST A TEST OF CBC\\x06\\x06\\x06\\x06\\x06\\x06'\n"
     ]
    }
   ],
   "source": [
    "aeskey = 'YELLOW SUBMARINE'\n",
    "teststr = 'THIS IS JUST A TEST OF CBC'\n",
    "testiv = b'\\x00'*16\n",
    "testct = encrypt_cbc(teststr, aeskey.encode(), testiv, 16)\n",
    "print(testct)\n",
    "testpt = decrypt_cbc(testct, aeskey.encode(), testiv, 16)\n",
    "print(testpt)\n"
   ]
  },
  {
   "cell_type": "code",
   "execution_count": 25,
   "metadata": {},
   "outputs": [
    {
     "name": "stdout",
     "output_type": "stream",
     "text": [
      "I'm back and I'm ringin' the bell \n",
      "A rockin' on the mike while the fly girls yell \n",
      "In ecstasy in the back of me \n",
      "Well that's my DJ Deshay cuttin' all them Z's \n",
      "Hittin' hard and the girlies goin' crazy \n",
      "Vanilla's on the mike, man I'm not lazy. \n",
      "\n",
      "I'm lettin' my drug kick in \n",
      "It controls my mouth and I begin \n",
      "To just let it flow, let my concepts go \n",
      "My posse's to the side yellin', Go Vanilla Go! \n",
      "\n",
      "Smooth 'cause that's the way I will be \n",
      "And if you don't give a damn, then \n",
      "Why you starin' at me \n",
      "So get off 'cause I control the stage \n",
      "There's no dissin' allowed \n",
      "I'm in my own phase \n",
      "The girlies sa y they love me and that is ok \n",
      "And I can dance better than any kid n' play \n",
      "\n",
      "Stage 2 -- Yea the one ya' wanna listen to \n",
      "It's off my head so let the beat play through \n",
      "So I can funk it up and make it sound good \n",
      "1-2-3 Yo -- Knock on some wood \n",
      "For good luck, I like my rhymes atrocious \n",
      "Supercalafragilisticexpialidocious \n",
      "I'm an effect and that you can bet \n",
      "I can take a fly girl and make her wet. \n",
      "\n",
      "I'm like Samson -- Samson to Delilah \n",
      "There's no denyin', You can try to hang \n",
      "But you'll keep tryin' to get my style \n",
      "Over and over, practice makes perfect \n",
      "But not if you're a loafer. \n",
      "\n",
      "You'll get nowhere, no place, no time, no girls \n",
      "Soon -- Oh my God, homebody, you probably eat \n",
      "Spaghetti with a spoon! Come on and say it! \n",
      "\n",
      "VIP. Vanilla Ice yep, yep, I'm comin' hard like a rhino \n",
      "Intoxicating so you stagger like a wino \n",
      "So punks stop trying and girl stop cryin' \n",
      "Vanilla Ice is sellin' and you people are buyin' \n",
      "'Cause why the freaks are jockin' like Crazy Glue \n",
      "Movin' and groovin' trying to sing along \n",
      "All through the ghetto groovin' this here song \n",
      "Now you're amazed by the VIP posse. \n",
      "\n",
      "Steppin' so hard like a German Nazi \n",
      "Startled by the bases hittin' ground \n",
      "There's no trippin' on mine, I'm just gettin' down \n",
      "Sparkamatic, I'm hangin' tight like a fanatic \n",
      "You trapped me once and I thought that \n",
      "You might have it \n",
      "So step down and lend me your ear \n",
      "'89 in my time! You, '90 is my year. \n",
      "\n",
      "You're weakenin' fast, YO! and I can tell it \n",
      "Your body's gettin' hot, so, so I can smell it \n",
      "So don't be mad and don't be sad \n",
      "'Cause the lyrics belong to ICE, You can call me Dad \n",
      "You're pitchin' a fit, so step back and endure \n",
      "Let the witch doctor, Ice, do the dance to cure \n",
      "So come up close and don't be square \n",
      "You wanna battle me -- Anytime, anywhere \n",
      "\n",
      "You thought that I was weak, Boy, you're dead wrong \n",
      "So come on, everybody and sing this song \n",
      "\n",
      "Say -- Play that funky music Say, go white boy, go white boy go \n",
      "play that funky music Go white boy, go white boy, go \n",
      "Lay down and boogie and play that funky music till you die. \n",
      "\n",
      "Play that funky music Come on, Come on, let me hear \n",
      "Play that funky music white boy you say it, say it \n",
      "Play that funky music A little louder now \n",
      "Play that funky music, white boy Come on, Come on, Come on \n",
      "Play that funky music \n",
      "\u0004\u0004\u0004\u0004\n"
     ]
    }
   ],
   "source": [
    "with open('10.txt') as f:\n",
    "  ct = f.read()\n",
    "\n",
    "ct = codecs.decode(ct.encode(), 'base64')\n",
    "pt = decrypt_cbc(ct, aeskey.encode(), testiv, 16)\n",
    "print(pt.decode())"
   ]
  },
  {
   "cell_type": "markdown",
   "metadata": {},
   "source": [
    "### CHALLENGE 11: An ECB/CBC detection oracle"
   ]
  },
  {
   "cell_type": "code",
   "execution_count": 26,
   "metadata": {},
   "outputs": [],
   "source": [
    "import random\n",
    "def get_random_aes_key(num_bytes):\n",
    "  return bytes([random.randint(0, 255) for _ in range(num_bytes)])\n",
    "\n",
    "def encryption_oracle(data):\n",
    "  block_size = 16\n",
    "  rand_key = get_random_aes_key(block_size)\n",
    "  rand_iv = get_random_aes_key(block_size)\n",
    "  pt = get_random_aes_key(random.randint(5,10)) + data\n",
    "  pt += get_random_aes_key(random.randint(5,10))\n",
    "  pt = pad_plaintext(pt, block_size)\n",
    "  if random.randint(0,1) == 1:\n",
    "    mode = 'ECB'\n",
    "    ct = encrypt_ecb(pt, rand_key)\n",
    "  else:\n",
    "    mode = 'CBC'\n",
    "    ct = encrypt_cbc(pt, rand_key, rand_iv, block_size)\n",
    "  return ct, mode\n",
    "\n",
    "def detect_encryption_mode(ciphertext, block_size):\n",
    "  reps = count_repetitions(ciphertext, block_size)\n",
    "  if reps > 0:\n",
    "    return 'ECB'\n",
    "  else:\n",
    "    return 'CBC'"
   ]
  },
  {
   "cell_type": "code",
   "execution_count": 27,
   "metadata": {},
   "outputs": [
    {
     "name": "stdout",
     "output_type": "stream",
     "text": [
      "0  errors in mode prediction\n"
     ]
    }
   ],
   "source": [
    "testdata = b'just some random data to encrypt '*1000\n",
    "\n",
    "errors = 0\n",
    "for _ in range(1000):\n",
    "  ct, mode = encryption_oracle(testdata)\n",
    "  detected_mode = detect_encryption_mode(ct, 16)\n",
    "  if mode != detected_mode:\n",
    "    errors += 1\n",
    "\n",
    "print(errors, \" errors in mode prediction\")"
   ]
  },
  {
   "cell_type": "markdown",
   "metadata": {},
   "source": [
    "### CHALLENGE 12: Byte-at-a-time ECB decryption (Simple)"
   ]
  },
  {
   "cell_type": "code",
   "execution_count": 28,
   "metadata": {},
   "outputs": [],
   "source": [
    "def AES_128_ECB(plaintext, random_key):\n",
    "  block_size = 16\n",
    "  pt = pad_plaintext(plaintext, block_size)\n",
    "  ct = encrypt_ecb(pt, random_key)\n",
    "  return ct"
   ]
  },
  {
   "cell_type": "code",
   "execution_count": 29,
   "metadata": {},
   "outputs": [],
   "source": [
    "def break_ECB_one_byte(plaintext, key):\n",
    "  bsize = 0\n",
    "  last_length = len(AES_128_ECB(plaintext, key))\n",
    "  for i in range(1,65):\n",
    "    pt = b'A'*i + plaintext\n",
    "    ciphertext = AES_128_ECB(pt, key)\n",
    "    bsize = len(ciphertext) - last_length \n",
    "    if bsize > 0:\n",
    "      break\n",
    "\n",
    "  mode = detect_encryption_mode(b'A'*bsize*2, bsize)\n",
    "  print(bsize)\n",
    "  print(mode)\n",
    "\n",
    "  input_block = b'A'*(bsize-1)\n",
    "  bytestr = b''\n",
    "\n",
    "  for b in range(len(plaintext)):\n",
    "    outct = AES_128_ECB(input_block+plaintext[b:], key)\n",
    "    ctblock = outct[:bsize]\n",
    "\n",
    "    ctbytes = {}\n",
    "    for i in range(0,256):\n",
    "      block = input_block+i.to_bytes(1, 'big')\n",
    "      ctbytes[block] = AES_128_ECB(block, key)\n",
    "\n",
    "    for key, val in ctbytes.items():\n",
    "      if val == ctblock:\n",
    "        bytestr += key[-1:]\n",
    "  return bytestr"
   ]
  },
  {
   "cell_type": "code",
   "execution_count": 30,
   "metadata": {},
   "outputs": [
    {
     "name": "stdout",
     "output_type": "stream",
     "text": [
      "16\n",
      "ECB\n",
      "b\"Rollin' in my 5.0\\nWith my rag-top down so my hair can blow\\nThe girlies on standby waving just to say hi\\nDid you stop? No, I just drove by\\n\"\n"
     ]
    }
   ],
   "source": [
    "with open('12.txt') as f:\n",
    "  pt = f.read()\n",
    "pt = codecs.decode(pt.encode(), 'base64')\n",
    "randaeskey = get_random_aes_key(16)\n",
    "\n",
    "answer = break_ECB_one_byte(pt, randaeskey)\n",
    "print(answer)"
   ]
  },
  {
   "cell_type": "markdown",
   "metadata": {},
   "source": [
    "### CHALLENGE 13: ECB cut-and-paste"
   ]
  },
  {
   "cell_type": "code",
   "execution_count": 31,
   "metadata": {},
   "outputs": [],
   "source": [
    "def parse_profile(text):\n",
    "  return dict(vals.split('=') for vals in text.split('&'))\n",
    "\n",
    "def unpad_plaintext(text):\n",
    "  pad = int.from_bytes(text[-1:], 'big')\n",
    "  for b in text[-pad:]:\n",
    "    if b != pad:\n",
    "      return text\n",
    "  return text[:-pad]"
   ]
  },
  {
   "cell_type": "code",
   "execution_count": 32,
   "metadata": {},
   "outputs": [
    {
     "data": {
      "text/plain": [
       "{'foo': 'bar', 'baz': 'qux', 'zap': 'zazzle'}"
      ]
     },
     "execution_count": 32,
     "metadata": {},
     "output_type": "execute_result"
    }
   ],
   "source": [
    "cookiestr = 'foo=bar&baz=qux&zap=zazzle'\n",
    "strdict = parse_profile(cookiestr)\n",
    "strdict"
   ]
  },
  {
   "cell_type": "code",
   "execution_count": 33,
   "metadata": {},
   "outputs": [],
   "source": [
    "def profile_for(email):\n",
    "  email = str(email).replace('&','').replace('=','')\n",
    "  return \"email=\"+email+\"&uid=10&role=user\""
   ]
  },
  {
   "cell_type": "code",
   "execution_count": 34,
   "metadata": {},
   "outputs": [
    {
     "name": "stdout",
     "output_type": "stream",
     "text": [
      "email=testemail@google.com&uid=10&role=user\n"
     ]
    }
   ],
   "source": [
    "print(profile_for('test=em=&ail@google.com'))"
   ]
  },
  {
   "cell_type": "code",
   "execution_count": 35,
   "metadata": {},
   "outputs": [],
   "source": [
    "def encrypt_profile(profile, key):\n",
    "  prof = pad_plaintext(profile, 16)\n",
    "  return encrypt_ecb(prof, key)\n",
    "\n",
    "def decrypt_profile(ciphertext, key):\n",
    "  prof = decrypt_ecb(ciphertext, key)\n",
    "  prof = unpad_plaintext(prof)\n",
    "  return parse_profile(prof.decode())"
   ]
  },
  {
   "cell_type": "code",
   "execution_count": 36,
   "metadata": {},
   "outputs": [
    {
     "name": "stdout",
     "output_type": "stream",
     "text": [
      "email=email@ggl.com&uid=10&role=user\n",
      "{'email': 'email@ggl.com', 'uid': '10', 'role': 'admin'}\n"
     ]
    }
   ],
   "source": [
    "profaeskey = get_random_aes_key(16)\n",
    "admin_email = 'email@ggl.com'   # this will be the email we make an admin. \n",
    "    # It is sized such that the last block begins after '...&role=', so the last block can be replaced with 'admin'\n",
    "fake_email = 'tenchars..'       # this places 'admin' in the second encrypted block \n",
    "    # after making the first 16 byte block = 'email=tenchars..'\n",
    "# Pad the second block as if it were the last block\n",
    "padded_fake_email = fake_email.encode()+pad_plaintext(b'admin', 16)  \n",
    "\n",
    "fake_profile = profile_for(padded_fake_email.decode())\n",
    "fake_encrypted_profile = encrypt_profile(fake_profile, profaeskey)\n",
    "\n",
    "admin_profile = profile_for(admin_email)\n",
    "admin_encrypted_profile = encrypt_profile(admin_profile, profaeskey)\n",
    "\n",
    "# cut second encrypted block from fake email and make it last encrypted block of desired admin email\n",
    "new_admin_profile = admin_encrypted_profile[:-16] + fake_encrypted_profile[16:32]   \n",
    "admin_decrypted_profile = decrypt_profile(new_admin_profile, profaeskey)\n",
    "\n",
    "print(admin_profile)\n",
    "print(admin_decrypted_profile)"
   ]
  },
  {
   "cell_type": "markdown",
   "metadata": {},
   "source": [
    "### CHALLENGE 14: Byte-at-a-time ECB decryption (Harder)"
   ]
  },
  {
   "cell_type": "code",
   "execution_count": 37,
   "metadata": {},
   "outputs": [],
   "source": [
    "random_prefix = get_random_aes_key(random.randint(1,15))\n",
    "def break_ECB_one_byte_prefix(plaintext, key):\n",
    "  bsize = 0\n",
    "  prefix_size = 0\n",
    "  last_length = len(AES_128_ECB(random_prefix, key))\n",
    "  for i in range(1,65):\n",
    "    pt = b'A'*i\n",
    "    ciphertext = AES_128_ECB(random_prefix + pt, key)\n",
    "    bsize = len(ciphertext) - last_length \n",
    "    if bsize > 0:\n",
    "      prefix_size = bsize - i + 1\n",
    "      break\n",
    "\n",
    "  mode = detect_encryption_mode(b'A'*bsize*2, bsize)\n",
    "  print('prefix size:', prefix_size)\n",
    "  print('block size: ', bsize)\n",
    "  print(mode)\n",
    "\n",
    "  input_block = b'A'*(bsize-prefix_size-1)\n",
    "  bytestr = b''\n",
    "\n",
    "  for b in range(len(plaintext)):\n",
    "    outct = AES_128_ECB(random_prefix + input_block + plaintext[b:], key)\n",
    "    ctblock = outct[:bsize]\n",
    "\n",
    "    ctbytes = {}\n",
    "    for i in range(0,256):\n",
    "      block = random_prefix+input_block+i.to_bytes(1, 'big')\n",
    "      ctbytes[block] = AES_128_ECB(block, key)\n",
    "\n",
    "    for key, val in ctbytes.items():\n",
    "      if val == ctblock:\n",
    "        bytestr += key[-1:]\n",
    "  return bytestr"
   ]
  },
  {
   "cell_type": "code",
   "execution_count": 38,
   "metadata": {},
   "outputs": [
    {
     "name": "stdout",
     "output_type": "stream",
     "text": [
      "prefix size: 7\n",
      "block size:  16\n",
      "ECB\n",
      "b\"Rollin' in my 5.0\\nWith my rag-top down so my hair can blow\\nThe girlies on standby waving just to say hi\\nDid you stop? No, I just drove by\\n\"\n"
     ]
    }
   ],
   "source": [
    "with open('12.txt') as f:\n",
    "  pt = f.read()\n",
    "pt = codecs.decode(pt.encode(), 'base64')\n",
    "randaeskey = get_random_aes_key(16)\n",
    "\n",
    "result = break_ECB_one_byte_prefix(pt, randaeskey) \n",
    "print(result)"
   ]
  },
  {
   "cell_type": "markdown",
   "metadata": {},
   "source": [
    "### CHALLENGE 15: PCKS#7 padding violation"
   ]
  },
  {
   "cell_type": "code",
   "execution_count": 39,
   "metadata": {},
   "outputs": [],
   "source": [
    "# same as previous unpad function but throws an error as instructed by challenge\n",
    "def unpad_plaintext_pkcs7(text):     \n",
    "  pad = int.from_bytes(text[-1:], 'big')\n",
    "  for b in text[-pad:]:\n",
    "    if b != pad:\n",
    "      raise Exception('Not a valid PKCS7 padding')\n",
    "  return text[:-pad]"
   ]
  },
  {
   "cell_type": "code",
   "execution_count": 40,
   "metadata": {},
   "outputs": [
    {
     "ename": "Exception",
     "evalue": "Not a valid PKCS7 padding",
     "output_type": "error",
     "traceback": [
      "\u001b[1;31m---------------------------------------------------------------------------\u001b[0m",
      "\u001b[1;31mException\u001b[0m                                 Traceback (most recent call last)",
      "\u001b[1;32m<ipython-input-40-bcc6e610c942>\u001b[0m in \u001b[0;36m<module>\u001b[1;34m\u001b[0m\n\u001b[0;32m      3\u001b[0m \u001b[1;33m\u001b[0m\u001b[0m\n\u001b[0;32m      4\u001b[0m \u001b[0munpadded_str\u001b[0m \u001b[1;33m=\u001b[0m \u001b[0munpad_plaintext_pkcs7\u001b[0m\u001b[1;33m(\u001b[0m\u001b[0mvalid_str\u001b[0m\u001b[1;33m.\u001b[0m\u001b[0mencode\u001b[0m\u001b[1;33m(\u001b[0m\u001b[1;33m)\u001b[0m\u001b[1;33m)\u001b[0m\u001b[1;33m\u001b[0m\u001b[1;33m\u001b[0m\u001b[0m\n\u001b[1;32m----> 5\u001b[1;33m \u001b[0munpadded_str1\u001b[0m \u001b[1;33m=\u001b[0m \u001b[0munpad_plaintext_pkcs7\u001b[0m\u001b[1;33m(\u001b[0m\u001b[0minvalid_str\u001b[0m\u001b[1;33m.\u001b[0m\u001b[0mencode\u001b[0m\u001b[1;33m(\u001b[0m\u001b[1;33m)\u001b[0m\u001b[1;33m)\u001b[0m\u001b[1;33m\u001b[0m\u001b[1;33m\u001b[0m\u001b[0m\n\u001b[0m",
      "\u001b[1;32m<ipython-input-39-44866109dbd3>\u001b[0m in \u001b[0;36munpad_plaintext_pkcs7\u001b[1;34m(text)\u001b[0m\n\u001b[0;32m      4\u001b[0m   \u001b[1;32mfor\u001b[0m \u001b[0mb\u001b[0m \u001b[1;32min\u001b[0m \u001b[0mtext\u001b[0m\u001b[1;33m[\u001b[0m\u001b[1;33m-\u001b[0m\u001b[0mpad\u001b[0m\u001b[1;33m:\u001b[0m\u001b[1;33m]\u001b[0m\u001b[1;33m:\u001b[0m\u001b[1;33m\u001b[0m\u001b[1;33m\u001b[0m\u001b[0m\n\u001b[0;32m      5\u001b[0m     \u001b[1;32mif\u001b[0m \u001b[0mb\u001b[0m \u001b[1;33m!=\u001b[0m \u001b[0mpad\u001b[0m\u001b[1;33m:\u001b[0m\u001b[1;33m\u001b[0m\u001b[1;33m\u001b[0m\u001b[0m\n\u001b[1;32m----> 6\u001b[1;33m       \u001b[1;32mraise\u001b[0m \u001b[0mException\u001b[0m\u001b[1;33m(\u001b[0m\u001b[1;34m'Not a valid PKCS7 padding'\u001b[0m\u001b[1;33m)\u001b[0m\u001b[1;33m\u001b[0m\u001b[1;33m\u001b[0m\u001b[0m\n\u001b[0m\u001b[0;32m      7\u001b[0m   \u001b[1;32mreturn\u001b[0m \u001b[0mtext\u001b[0m\u001b[1;33m[\u001b[0m\u001b[1;33m:\u001b[0m\u001b[1;33m-\u001b[0m\u001b[0mpad\u001b[0m\u001b[1;33m]\u001b[0m\u001b[1;33m\u001b[0m\u001b[1;33m\u001b[0m\u001b[0m\n",
      "\u001b[1;31mException\u001b[0m: Not a valid PKCS7 padding"
     ]
    }
   ],
   "source": [
    "valid_str = \"ICE ICE BABY\\x04\\x04\\x04\\x04\"\n",
    "invalid_str = \"ICE ICE BABY\\x05\\x05\\x05\\x05\"\n",
    "\n",
    "unpadded_str = unpad_plaintext_pkcs7(valid_str.encode())\n",
    "unpadded_str1 = unpad_plaintext_pkcs7(invalid_str.encode())"
   ]
  },
  {
   "cell_type": "markdown",
   "metadata": {},
   "source": [
    "### CHALLENGE 16: CBC bitflipping attacks"
   ]
  },
  {
   "cell_type": "code",
   "execution_count": 41,
   "metadata": {},
   "outputs": [],
   "source": [
    "def encrypt_arb_str_cbc(plaintext, key, iv):\n",
    "  pt = \"comment1=cooking%20MCs;userdata=\" \n",
    "  pt += plaintext.replace(';', '\";\"').replace('=','\"=\"') \n",
    "  pt += \";comment2=%20like%20a%20pound%20of%20bacon\"\n",
    "  print(\"String to be encrypted: \", pt)\n",
    "  return encrypt_cbc(pt, key, iv, 16)\n",
    "\n",
    "def find_admin_str(ciphertext, key, iv):\n",
    "  plaintext = unpad_plaintext_pkcs7(decrypt_cbc(ciphertext, key, iv, 16))\n",
    "  return (b';admin=true;' in plaintext, plaintext)"
   ]
  },
  {
   "cell_type": "code",
   "execution_count": 42,
   "metadata": {},
   "outputs": [
    {
     "name": "stdout",
     "output_type": "stream",
     "text": [
      "String to be encrypted:  comment1=cooking%20MCs;userdata=YELLOW SUBMARINEz% 5 z %,(/|534$;comment2=%20like%20a%20pound%20of%20bacon\n",
      "Phrase ';admin=true;' found?  True\n",
      "Decrypted input string:  b'comment1=cooking%20MCs;userdata=U\\x14\\x94`~\\x0f~\\x8c>\\xedH\\xaal6[\\x8b;data;admin=true;comment2=%20like%20a%20pound%20of%20bacon'\n"
     ]
    }
   ],
   "source": [
    "randkey = get_random_aes_key(16)\n",
    "randiv = get_random_aes_key(16)\n",
    "\n",
    "dummystr = \"YELLOW SUBMARINE\"\n",
    "adminstr = b\";data;admin=true\"\n",
    "\n",
    "userdata = dummystr + fixed_xor(adminstr, b'A'*16).decode()\n",
    "\n",
    "cbc_cipher = encrypt_arb_str_cbc(userdata, randkey, randiv)\n",
    "cbc_cipher = cbc_cipher[0:32] + fixed_xor(cbc_cipher[32:48], b'A'*16) + cbc_cipher[48:]\n",
    "\n",
    "adminfound, adminpt = find_admin_str(cbc_cipher, randkey, randiv)\n",
    "print(\"Phrase ';admin=true;' found? \", adminfound)\n",
    "print(\"Decrypted input string: \", adminpt)\n"
   ]
  }
 ],
 "metadata": {
  "kernelspec": {
   "display_name": "Python 3.8.5 ('base')",
   "language": "python",
   "name": "python3"
  },
  "language_info": {
   "codemirror_mode": {
    "name": "ipython",
    "version": 3
   },
   "file_extension": ".py",
   "mimetype": "text/x-python",
   "name": "python",
   "nbconvert_exporter": "python",
   "pygments_lexer": "ipython3",
   "version": "3.8.5"
  },
  "orig_nbformat": 4,
  "vscode": {
   "interpreter": {
    "hash": "56be1dc160e09ae3a86c859ff3ad675dc0adc33e2d9ffd28fb5be88efa46ef87"
   }
  }
 },
 "nbformat": 4,
 "nbformat_minor": 2
}
